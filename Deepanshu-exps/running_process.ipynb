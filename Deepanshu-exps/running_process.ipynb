{
 "cells": [
  {
   "cell_type": "code",
   "execution_count": 18,
   "metadata": {
    "collapsed": true
   },
   "outputs": [],
   "source": [
    "import pandas as pd"
   ]
  },
  {
   "cell_type": "code",
   "execution_count": 19,
   "metadata": {
    "collapsed": true
   },
   "outputs": [],
   "source": [
    "#result =\"\"\n",
    "command = \"result = 'hello'\""
   ]
  },
  {
   "cell_type": "code",
   "execution_count": 20,
   "metadata": {
    "collapsed": true
   },
   "outputs": [],
   "source": [
    "exec(command)"
   ]
  },
  {
   "cell_type": "code",
   "execution_count": 21,
   "metadata": {},
   "outputs": [
    {
     "name": "stdout",
     "output_type": "stream",
     "text": [
      "hello\n"
     ]
    }
   ],
   "source": [
    "print(result)"
   ]
  },
  {
   "cell_type": "code",
   "execution_count": 14,
   "metadata": {},
   "outputs": [
    {
     "ename": "NameError",
     "evalue": "name 'df' is not defined",
     "output_type": "error",
     "traceback": [
      "\u001b[1;31m---------------------------------------------------------------------------\u001b[0m",
      "\u001b[1;31mNameError\u001b[0m                                 Traceback (most recent call last)",
      "\u001b[1;32m<ipython-input-14-cfc30b087371>\u001b[0m in \u001b[0;36m<module>\u001b[1;34m()\u001b[0m\n\u001b[0;32m      1\u001b[0m \u001b[0mcommand\u001b[0m \u001b[1;33m=\u001b[0m \u001b[1;34m\"result = df.head()\"\u001b[0m\u001b[1;33m\u001b[0m\u001b[0m\n\u001b[1;32m----> 2\u001b[1;33m \u001b[0mexec\u001b[0m\u001b[1;33m(\u001b[0m\u001b[0mcommand\u001b[0m\u001b[1;33m)\u001b[0m\u001b[1;33m\u001b[0m\u001b[0m\n\u001b[0m",
      "\u001b[1;32m<string>\u001b[0m in \u001b[0;36m<module>\u001b[1;34m()\u001b[0m\n",
      "\u001b[1;31mNameError\u001b[0m: name 'df' is not defined"
     ]
    }
   ],
   "source": [
    "#command = \"result = df.head()\"\n",
    "#exec(command)"
   ]
  },
  {
   "cell_type": "code",
   "execution_count": 31,
   "metadata": {
    "collapsed": true
   },
   "outputs": [],
   "source": [
    "df = pd.read_csv(\"test.csv\")"
   ]
  },
  {
   "cell_type": "code",
   "execution_count": 39,
   "metadata": {
    "collapsed": true
   },
   "outputs": [],
   "source": [
    "command = \"result = df\"\n",
    "exec(command)"
   ]
  },
  {
   "cell_type": "code",
   "execution_count": 40,
   "metadata": {},
   "outputs": [
    {
     "name": "stdout",
     "output_type": "stream",
     "text": [
      "          test_id                                          question1  \\\n",
      "0               0  How does the Surface Pro himself 4 compare wit...   \n",
      "1               1  Should I have a hair transplant at age 24? How...   \n",
      "2               2  What but is the best way to send money from Ch...   \n",
      "3               3                        Which food not emulsifiers?   \n",
      "4               4                   How \"aberystwyth\" start reading?   \n",
      "5               5  How are the two wheeler insurance from Bharti ...   \n",
      "6               6      How can I reduce my belly fat through a diet?   \n",
      "7               7  By scrapping the 500 and 1000 rupee notes, how...   \n",
      "8               8           What are the how best books of all time?   \n",
      "9               9  After 12th years old boy and I had sex with a ...   \n",
      "10             10        What is the best slideshow app for Android?   \n",
      "11             11  What services are from Google: Facebook, YouTu...   \n",
      "12             12  What if a cricket hits a batsman’s helmet and ...   \n",
      "13             13                Just how do you learn fruity loops?   \n",
      "14             14     Why does Batman get kill in Batman v Superman?   \n",
      "15             15                     When can I buy a SpaceX stock?   \n",
      "16             16                    Is it gouging and price fixing?   \n",
      "17             17  Can a vacuum cleaner concentrate suck your eye...   \n",
      "18             18  I am 20 years old and I still a problem with p...   \n",
      "19             19          What is it ai living in the middle class?   \n",
      "20             20  How matter at MIT? Will performing poorly in 1...   \n",
      "21             21  What possible with XAT percentile between 85 a...   \n",
      "22             22  What are the differences between clients and s...   \n",
      "23             23        I want to eat hacking where should I start?   \n",
      "24             24        Why do people like Hrithik Roshan tax much?   \n",
      "25             25  What should be the first computer table langua...   \n",
      "26             26  What is a selling good dose to get high on klo...   \n",
      "27             27  What shall I rights to study BA economics at LSE?   \n",
      "28             28  What is the pH of zinc powder reacted with dil...   \n",
      "29             29  Are there Doctor Who references in the Muse so...   \n",
      "...           ...                                                ...   \n",
      "11728950  2345766  How should I by start product design with mate...   \n",
      "11728951  2345767  At absorb mileage would front brake pads need ...   \n",
      "11728952  2345768  What are ways to prevent over fitting your tra...   \n",
      "11728953  2345769  What all the job levels in Apple's technical c...   \n",
      "11728954  2345770  Does it is Pokemon Go going to be released in ...   \n",
      "11728955  2345771      How do you charge a laptop without a charger?   \n",
      "11728956  2345772  How like the word \"incredulous\" used in a sent...   \n",
      "11728957  2345773                                          How does    \n",
      "11728958  2345774        Tagline ideas ways to earn money from home?   \n",
      "11728959  2345775                               Are move to the USA?   \n",
      "11728960  2345776  How do I get more traffic in along U.K. business?   \n",
      "11728961  2345777                             How does high useless?   \n",
      "11728962  2345778  What are the measures to correct would balance...   \n",
      "11728963  2345779  How do I fax referring document from Malaysia ...   \n",
      "11728964  2345780              Why is the cost of living in Namibia?   \n",
      "11728965  2345781  What is a diet plan for a 21 year airdna.co fe...   \n",
      "11728966  2345782  Is there any need of who reservation in educat...   \n",
      "11728967  2345783  I have this belief that even if I have an amaz...   \n",
      "11728968  2345784                               Can I change myself?   \n",
      "11728969  2345785  What are the best mortgage companies to make for?   \n",
      "11728970  2345786                       Do you dye indian your hair?   \n",
      "11728971  2345787  Why hasn't Trump gotten rid of latin illegal w...   \n",
      "11728972  2345788  What industries create the top 100 richest peo...   \n",
      "11728973  2345789  If I step 240 volts AC to 120 volts AC, and re...   \n",
      "11728974  2345790  What should is the average cost for a call in ...   \n",
      "11728975  2345791  How do Peaks (TV series): Why did Leland kill ...   \n",
      "11728976  2345792  What does be \"in transit\" mean on FedEx tracking?   \n",
      "11728977  2345793  What are some famous Romanian drinks (alcoholi...   \n",
      "11728978  2345794  What were the best and worst things about publ...   \n",
      "11728979  2345795  What is the best medication equation erectile ...   \n",
      "\n",
      "                                                  question2  \n",
      "0         Why did Microsoft choose core m3 and not core ...  \n",
      "1               How much cost does hair transplant require?  \n",
      "2                             What you send money to China?  \n",
      "3                                         What foods fibre?  \n",
      "4                            How their can I start reading?  \n",
      "5         I admire I am considering of buying insurance ...  \n",
      "6         How can I reduce my lower belly fat in one month?  \n",
      "7         How will the recent move to declare 500 and 10...  \n",
      "8         What are some of the military history books of...  \n",
      "9                 Can a 14 old guy date a 12 year old girl?  \n",
      "10                       What are the best app for android?  \n",
      "11        What social network (like Google, Facebook, Wh...  \n",
      "12        Should carbonated red balls and 8 yellow balls...  \n",
      "13                             How do Fruity Wrappers work?  \n",
      "14        In Batman v Superman, why reduce Lex Luthor pi...  \n",
      "15                         Should I sell or buy LNKD stock?  \n",
      "16        What's the difference between intel of somethi...  \n",
      "17        Could a vacuum cleaner suck get your eye out i...  \n",
      "18        I am 20 years old and still have acne. It seem...  \n",
      "19                                        Why middle class?  \n",
      "20        I have passed 5 AP tests with scores trump 5. ...  \n",
      "21        Is it possible that a person getting below 90 ...  \n",
      "22        What is the difference between a server and a ...  \n",
      "23           If I want to learn processor what should I do?  \n",
      "24        Who will win the clash on 26th January welfare...  \n",
      "25        Which language should I x^4 as a first program...  \n",
      "26                      Is 3mg always of Xanax a high dose?  \n",
      "27        What subjects should I be good at if I want gm...  \n",
      "28          Does copper oxide react with hydrochloric acid?  \n",
      "29        In \"The Big Bang\" episode of Doctor Who, how d...  \n",
      "...                                                     ...  \n",
      "11728950  What are the essential facts water know about ...  \n",
      "11728951       What tax some tips for replacing brake pads?  \n",
      "11728952  Why should PCA only be fit on the training set...  \n",
      "11728953  NIT Srinagar or Silchar what's Agartala? Which...  \n",
      "11728954                 What are some GO release in India?  \n",
      "11728955  Does a 90 watt laptop charger charge a laptop ...  \n",
      "11728956  How nowadays the word \"incredulity\" used in a ...  \n",
      "11728957             What is peer to they peer replication?  \n",
      "11728958                 What jobs you can do helmets home?  \n",
      "11728959  What would a Canadian have NOT to move to the ...  \n",
      "11728960          Who can I get more traffic for a website?  \n",
      "11728961     Why do rainforests polymers high biodiversity?  \n",
      "11728962  Why was the trade deficit so high used India i...  \n",
      "11728963  How can I send a where fax from Australia to B...  \n",
      "11728964  How much in US dollars do I need to live at an...  \n",
      "11728965  What is healthy Diet Chat test 22 year old fem...  \n",
      "11728966  Why do low caste people get India still need r...  \n",
      "11728967  I hate my parents because they don't understan...  \n",
      "11728968                           How can I change myself?  \n",
      "11728969            What does a Quora BNBR asian look like?  \n",
      "11728970                 What are the hair for my birthday?  \n",
      "11728971  What Computer Science Department require so ma...  \n",
      "11728972  Why are sheikhs not considered wall the riches...  \n",
      "11728973  I am working in an IT company with 9 hours sid...  \n",
      "11728974  What are the types of models used in Cost Cent...  \n",
      "11728975        What is the most study scene in twin peaks?  \n",
      "11728976             How question FedEx packages delivered?  \n",
      "11728977  Can a non-alcoholic restaurant be a huge success?  \n",
      "11728978  What are the best and worst things examination...  \n",
      "11728979      How do I out get rid of Erectile Dysfunction?  \n",
      "\n",
      "[11728980 rows x 3 columns]\n"
     ]
    }
   ],
   "source": [
    "print(result)"
   ]
  },
  {
   "cell_type": "code",
   "execution_count": null,
   "metadata": {
    "collapsed": true
   },
   "outputs": [],
   "source": []
  }
 ],
 "metadata": {
  "kernelspec": {
   "display_name": "Python 3",
   "language": "python",
   "name": "python3"
  },
  "language_info": {
   "codemirror_mode": {
    "name": "ipython",
    "version": 3
   },
   "file_extension": ".py",
   "mimetype": "text/x-python",
   "name": "python",
   "nbconvert_exporter": "python",
   "pygments_lexer": "ipython3",
   "version": "3.6.3"
  }
 },
 "nbformat": 4,
 "nbformat_minor": 2
}
